{
 "cells": [
  {
   "cell_type": "markdown",
   "id": "2f1e8399",
   "metadata": {},
   "source": [
    "Write a Python program to square the elements of a list using map() function.\n",
    "\n",
    "\n",
    "\n",
    "Sample List: [4, 5, 2, 9]\n",
    "\n",
    "Square the elements of the list:\n",
    "\n",
    "[16, 25, 4, 81]"
   ]
  },
  {
   "cell_type": "code",
   "execution_count": 13,
   "id": "73d8ce8b",
   "metadata": {},
   "outputs": [
    {
     "name": "stdout",
     "output_type": "stream",
     "text": [
      "Original List:  [4, 5, 2, 9]\n",
      "\n",
      "Square the Numbers of the said list using map():\n",
      "[16, 25, 4, 81]\n"
     ]
    }
   ],
   "source": [
    "def square_num(n):\n",
    "  return n * n\n",
    "nums = [4, 5, 2, 9]\n",
    "\n",
    "print(\"Original List: \",nums)\n",
    "\n",
    "result = map(square_num, nums)\n",
    "\n",
    "print(\"\\nSquare the Numbers of the said list using map():\")\n",
    "\n",
    "print(list(result))"
   ]
  }
 ],
 "metadata": {
  "kernelspec": {
   "display_name": "Python 3 (ipykernel)",
   "language": "python",
   "name": "python3"
  },
  "language_info": {
   "codemirror_mode": {
    "name": "ipython",
    "version": 3
   },
   "file_extension": ".py",
   "mimetype": "text/x-python",
   "name": "python",
   "nbconvert_exporter": "python",
   "pygments_lexer": "ipython3",
   "version": "3.10.0"
  }
 },
 "nbformat": 4,
 "nbformat_minor": 5
}
